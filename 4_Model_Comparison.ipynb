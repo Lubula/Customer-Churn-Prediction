{
  "nbformat": 4,
  "nbformat_minor": 0,
  "metadata": {
    "colab": {
      "provenance": []
    },
    "kernelspec": {
      "name": "python3",
      "display_name": "Python 3"
    },
    "language_info": {
      "name": "python"
    }
  },
  "cells": [
    {
      "cell_type": "code",
      "source": [
        "import pandas as pd\n",
        "import numpy as np\n",
        "from sklearn.preprocessing import LabelEncoder, StandardScaler\n",
        "from sklearn.model_selection import train_test_split\n",
        "from sklearn.ensemble import RandomForestClassifier, GradientBoostingClassifier\n",
        "from sklearn.svm import SVC\n",
        "from sklearn.metrics import classification_report"
      ],
      "metadata": {
        "id": "51hTiqgROXAm"
      },
      "execution_count": 54,
      "outputs": []
    },
    {
      "cell_type": "code",
      "source": [
        "# load the data set\n",
        "# Data set from : https://www.kaggle.com/datasets/blastchar/telco-customer-churn\n",
        "from google.colab import files\n",
        "uploaded = files.upload()"
      ],
      "metadata": {
        "colab": {
          "base_uri": "https://localhost:8080/",
          "height": 74
        },
        "id": "8ygj8TD8QZCd",
        "outputId": "a4165a9a-a324-4e36-f0ef-f84ce3116c1f"
      },
      "execution_count": 8,
      "outputs": [
        {
          "output_type": "display_data",
          "data": {
            "text/plain": [
              "<IPython.core.display.HTML object>"
            ],
            "text/html": [
              "\n",
              "     <input type=\"file\" id=\"files-e0371d79-6d8e-4d9a-b770-f282de64b342\" name=\"files[]\" multiple disabled\n",
              "        style=\"border:none\" />\n",
              "     <output id=\"result-e0371d79-6d8e-4d9a-b770-f282de64b342\">\n",
              "      Upload widget is only available when the cell has been executed in the\n",
              "      current browser session. Please rerun this cell to enable.\n",
              "      </output>\n",
              "      <script>// Copyright 2017 Google LLC\n",
              "//\n",
              "// Licensed under the Apache License, Version 2.0 (the \"License\");\n",
              "// you may not use this file except in compliance with the License.\n",
              "// You may obtain a copy of the License at\n",
              "//\n",
              "//      http://www.apache.org/licenses/LICENSE-2.0\n",
              "//\n",
              "// Unless required by applicable law or agreed to in writing, software\n",
              "// distributed under the License is distributed on an \"AS IS\" BASIS,\n",
              "// WITHOUT WARRANTIES OR CONDITIONS OF ANY KIND, either express or implied.\n",
              "// See the License for the specific language governing permissions and\n",
              "// limitations under the License.\n",
              "\n",
              "/**\n",
              " * @fileoverview Helpers for google.colab Python module.\n",
              " */\n",
              "(function(scope) {\n",
              "function span(text, styleAttributes = {}) {\n",
              "  const element = document.createElement('span');\n",
              "  element.textContent = text;\n",
              "  for (const key of Object.keys(styleAttributes)) {\n",
              "    element.style[key] = styleAttributes[key];\n",
              "  }\n",
              "  return element;\n",
              "}\n",
              "\n",
              "// Max number of bytes which will be uploaded at a time.\n",
              "const MAX_PAYLOAD_SIZE = 100 * 1024;\n",
              "\n",
              "function _uploadFiles(inputId, outputId) {\n",
              "  const steps = uploadFilesStep(inputId, outputId);\n",
              "  const outputElement = document.getElementById(outputId);\n",
              "  // Cache steps on the outputElement to make it available for the next call\n",
              "  // to uploadFilesContinue from Python.\n",
              "  outputElement.steps = steps;\n",
              "\n",
              "  return _uploadFilesContinue(outputId);\n",
              "}\n",
              "\n",
              "// This is roughly an async generator (not supported in the browser yet),\n",
              "// where there are multiple asynchronous steps and the Python side is going\n",
              "// to poll for completion of each step.\n",
              "// This uses a Promise to block the python side on completion of each step,\n",
              "// then passes the result of the previous step as the input to the next step.\n",
              "function _uploadFilesContinue(outputId) {\n",
              "  const outputElement = document.getElementById(outputId);\n",
              "  const steps = outputElement.steps;\n",
              "\n",
              "  const next = steps.next(outputElement.lastPromiseValue);\n",
              "  return Promise.resolve(next.value.promise).then((value) => {\n",
              "    // Cache the last promise value to make it available to the next\n",
              "    // step of the generator.\n",
              "    outputElement.lastPromiseValue = value;\n",
              "    return next.value.response;\n",
              "  });\n",
              "}\n",
              "\n",
              "/**\n",
              " * Generator function which is called between each async step of the upload\n",
              " * process.\n",
              " * @param {string} inputId Element ID of the input file picker element.\n",
              " * @param {string} outputId Element ID of the output display.\n",
              " * @return {!Iterable<!Object>} Iterable of next steps.\n",
              " */\n",
              "function* uploadFilesStep(inputId, outputId) {\n",
              "  const inputElement = document.getElementById(inputId);\n",
              "  inputElement.disabled = false;\n",
              "\n",
              "  const outputElement = document.getElementById(outputId);\n",
              "  outputElement.innerHTML = '';\n",
              "\n",
              "  const pickedPromise = new Promise((resolve) => {\n",
              "    inputElement.addEventListener('change', (e) => {\n",
              "      resolve(e.target.files);\n",
              "    });\n",
              "  });\n",
              "\n",
              "  const cancel = document.createElement('button');\n",
              "  inputElement.parentElement.appendChild(cancel);\n",
              "  cancel.textContent = 'Cancel upload';\n",
              "  const cancelPromise = new Promise((resolve) => {\n",
              "    cancel.onclick = () => {\n",
              "      resolve(null);\n",
              "    };\n",
              "  });\n",
              "\n",
              "  // Wait for the user to pick the files.\n",
              "  const files = yield {\n",
              "    promise: Promise.race([pickedPromise, cancelPromise]),\n",
              "    response: {\n",
              "      action: 'starting',\n",
              "    }\n",
              "  };\n",
              "\n",
              "  cancel.remove();\n",
              "\n",
              "  // Disable the input element since further picks are not allowed.\n",
              "  inputElement.disabled = true;\n",
              "\n",
              "  if (!files) {\n",
              "    return {\n",
              "      response: {\n",
              "        action: 'complete',\n",
              "      }\n",
              "    };\n",
              "  }\n",
              "\n",
              "  for (const file of files) {\n",
              "    const li = document.createElement('li');\n",
              "    li.append(span(file.name, {fontWeight: 'bold'}));\n",
              "    li.append(span(\n",
              "        `(${file.type || 'n/a'}) - ${file.size} bytes, ` +\n",
              "        `last modified: ${\n",
              "            file.lastModifiedDate ? file.lastModifiedDate.toLocaleDateString() :\n",
              "                                    'n/a'} - `));\n",
              "    const percent = span('0% done');\n",
              "    li.appendChild(percent);\n",
              "\n",
              "    outputElement.appendChild(li);\n",
              "\n",
              "    const fileDataPromise = new Promise((resolve) => {\n",
              "      const reader = new FileReader();\n",
              "      reader.onload = (e) => {\n",
              "        resolve(e.target.result);\n",
              "      };\n",
              "      reader.readAsArrayBuffer(file);\n",
              "    });\n",
              "    // Wait for the data to be ready.\n",
              "    let fileData = yield {\n",
              "      promise: fileDataPromise,\n",
              "      response: {\n",
              "        action: 'continue',\n",
              "      }\n",
              "    };\n",
              "\n",
              "    // Use a chunked sending to avoid message size limits. See b/62115660.\n",
              "    let position = 0;\n",
              "    do {\n",
              "      const length = Math.min(fileData.byteLength - position, MAX_PAYLOAD_SIZE);\n",
              "      const chunk = new Uint8Array(fileData, position, length);\n",
              "      position += length;\n",
              "\n",
              "      const base64 = btoa(String.fromCharCode.apply(null, chunk));\n",
              "      yield {\n",
              "        response: {\n",
              "          action: 'append',\n",
              "          file: file.name,\n",
              "          data: base64,\n",
              "        },\n",
              "      };\n",
              "\n",
              "      let percentDone = fileData.byteLength === 0 ?\n",
              "          100 :\n",
              "          Math.round((position / fileData.byteLength) * 100);\n",
              "      percent.textContent = `${percentDone}% done`;\n",
              "\n",
              "    } while (position < fileData.byteLength);\n",
              "  }\n",
              "\n",
              "  // All done.\n",
              "  yield {\n",
              "    response: {\n",
              "      action: 'complete',\n",
              "    }\n",
              "  };\n",
              "}\n",
              "\n",
              "scope.google = scope.google || {};\n",
              "scope.google.colab = scope.google.colab || {};\n",
              "scope.google.colab._files = {\n",
              "  _uploadFiles,\n",
              "  _uploadFilesContinue,\n",
              "};\n",
              "})(self);\n",
              "</script> "
            ]
          },
          "metadata": {}
        },
        {
          "output_type": "stream",
          "name": "stdout",
          "text": [
            "Saving WA_Fn-UseC_-Telco-Customer-Churn.csv to WA_Fn-UseC_-Telco-Customer-Churn (1).csv\n"
          ]
        }
      ]
    },
    {
      "cell_type": "code",
      "source": [
        "# Load the data into data frame\n",
        "df = pd.read_csv(\"WA_Fn-UseC_-Telco-Customer-Churn.csv\")"
      ],
      "metadata": {
        "id": "rCZlLjgBSFn-"
      },
      "execution_count": 55,
      "outputs": []
    },
    {
      "cell_type": "code",
      "source": [
        "# Check the precision, F1 score, recall for our model\n",
        "print(classification_report(y_test, predictions))"
      ],
      "metadata": {
        "colab": {
          "base_uri": "https://localhost:8080/"
        },
        "id": "YieeWB6RoEmc",
        "outputId": "4bf0aab0-6025-46ee-b9a9-5d58c9fcfd3b"
      },
      "execution_count": 56,
      "outputs": [
        {
          "output_type": "stream",
          "name": "stdout",
          "text": [
            "              precision    recall  f1-score   support\n",
            "\n",
            "           0       0.85      0.91      0.88      1036\n",
            "           1       0.69      0.56      0.62       373\n",
            "\n",
            "    accuracy                           0.82      1409\n",
            "   macro avg       0.77      0.74      0.75      1409\n",
            "weighted avg       0.81      0.82      0.81      1409\n",
            "\n"
          ]
        }
      ]
    },
    {
      "cell_type": "code",
      "source": [
        "# Model Performance\n",
        "# recall: 91% recall is great\n",
        "# Precision: 85%\n",
        "# F1 score of 88% (max score is 100% or 1)\n",
        "# Accuracy of 82% which is better that 73% for the EDA"
      ],
      "metadata": {
        "id": "2Ij4gTkcojZr"
      },
      "execution_count": null,
      "outputs": []
    },
    {
      "cell_type": "code",
      "source": [
        "# 4. Lets now compare to other models\n",
        "# we will go thorough some of the same code, I prefer to do so, to ensure everything is 100%\n",
        "# a bit of an issue when using cloud services that scales in price"
      ],
      "metadata": {
        "id": "CwcnMBawq0MV"
      },
      "execution_count": 58,
      "outputs": []
    },
    {
      "cell_type": "code",
      "source": [
        "# Convert non-numeric columns to numeric\n",
        "for column in cleaned_df.columns:\n",
        "    if cleaned_df[column].dtype == np.number:\n",
        "        continue\n",
        "    cleaned_df[column] = LabelEncoder().fit_transform(cleaned_df[column])\n",
        "\n",
        "# Scale the data\n",
        "X = cleaned_df.drop(\"Churn\", axis=1)  # feature dataset\n",
        "y = cleaned_df[\"Churn\"]\n",
        "X = StandardScaler().fit_transform(X)\n",
        "\n",
        "# Split data into 80% training and 20% testing\n",
        "x_train, x_test, y_train, y_test = train_test_split(X, y, test_size=0.2, random_state=42)\n"
      ],
      "metadata": {
        "colab": {
          "base_uri": "https://localhost:8080/"
        },
        "id": "j__y_n6Rsx6s",
        "outputId": "16603b20-66cc-4975-fa1a-1cb3aff8619f"
      },
      "execution_count": 57,
      "outputs": [
        {
          "output_type": "stream",
          "name": "stderr",
          "text": [
            "<ipython-input-57-179ed88e4f9b>:3: DeprecationWarning: Converting `np.inexact` or `np.floating` to a dtype is deprecated. The current result is `float64` which is not strictly correct.\n",
            "  if cleaned_df[column].dtype == np.number:\n",
            "<ipython-input-57-179ed88e4f9b>:3: DeprecationWarning: Converting `np.inexact` or `np.floating` to a dtype is deprecated. The current result is `float64` which is not strictly correct.\n",
            "  if cleaned_df[column].dtype == np.number:\n",
            "<ipython-input-57-179ed88e4f9b>:3: DeprecationWarning: Converting `np.inexact` or `np.floating` to a dtype is deprecated. The current result is `float64` which is not strictly correct.\n",
            "  if cleaned_df[column].dtype == np.number:\n",
            "<ipython-input-57-179ed88e4f9b>:3: DeprecationWarning: Converting `np.inexact` or `np.floating` to a dtype is deprecated. The current result is `float64` which is not strictly correct.\n",
            "  if cleaned_df[column].dtype == np.number:\n",
            "<ipython-input-57-179ed88e4f9b>:3: DeprecationWarning: Converting `np.inexact` or `np.floating` to a dtype is deprecated. The current result is `float64` which is not strictly correct.\n",
            "  if cleaned_df[column].dtype == np.number:\n",
            "<ipython-input-57-179ed88e4f9b>:3: DeprecationWarning: Converting `np.inexact` or `np.floating` to a dtype is deprecated. The current result is `float64` which is not strictly correct.\n",
            "  if cleaned_df[column].dtype == np.number:\n",
            "<ipython-input-57-179ed88e4f9b>:3: DeprecationWarning: Converting `np.inexact` or `np.floating` to a dtype is deprecated. The current result is `float64` which is not strictly correct.\n",
            "  if cleaned_df[column].dtype == np.number:\n",
            "<ipython-input-57-179ed88e4f9b>:3: DeprecationWarning: Converting `np.inexact` or `np.floating` to a dtype is deprecated. The current result is `float64` which is not strictly correct.\n",
            "  if cleaned_df[column].dtype == np.number:\n",
            "<ipython-input-57-179ed88e4f9b>:3: DeprecationWarning: Converting `np.inexact` or `np.floating` to a dtype is deprecated. The current result is `float64` which is not strictly correct.\n",
            "  if cleaned_df[column].dtype == np.number:\n",
            "<ipython-input-57-179ed88e4f9b>:3: DeprecationWarning: Converting `np.inexact` or `np.floating` to a dtype is deprecated. The current result is `float64` which is not strictly correct.\n",
            "  if cleaned_df[column].dtype == np.number:\n",
            "<ipython-input-57-179ed88e4f9b>:3: DeprecationWarning: Converting `np.inexact` or `np.floating` to a dtype is deprecated. The current result is `float64` which is not strictly correct.\n",
            "  if cleaned_df[column].dtype == np.number:\n",
            "<ipython-input-57-179ed88e4f9b>:3: DeprecationWarning: Converting `np.inexact` or `np.floating` to a dtype is deprecated. The current result is `float64` which is not strictly correct.\n",
            "  if cleaned_df[column].dtype == np.number:\n",
            "<ipython-input-57-179ed88e4f9b>:3: DeprecationWarning: Converting `np.inexact` or `np.floating` to a dtype is deprecated. The current result is `float64` which is not strictly correct.\n",
            "  if cleaned_df[column].dtype == np.number:\n",
            "<ipython-input-57-179ed88e4f9b>:3: DeprecationWarning: Converting `np.inexact` or `np.floating` to a dtype is deprecated. The current result is `float64` which is not strictly correct.\n",
            "  if cleaned_df[column].dtype == np.number:\n",
            "<ipython-input-57-179ed88e4f9b>:3: DeprecationWarning: Converting `np.inexact` or `np.floating` to a dtype is deprecated. The current result is `float64` which is not strictly correct.\n",
            "  if cleaned_df[column].dtype == np.number:\n",
            "<ipython-input-57-179ed88e4f9b>:3: DeprecationWarning: Converting `np.inexact` or `np.floating` to a dtype is deprecated. The current result is `float64` which is not strictly correct.\n",
            "  if cleaned_df[column].dtype == np.number:\n",
            "<ipython-input-57-179ed88e4f9b>:3: DeprecationWarning: Converting `np.inexact` or `np.floating` to a dtype is deprecated. The current result is `float64` which is not strictly correct.\n",
            "  if cleaned_df[column].dtype == np.number:\n",
            "<ipython-input-57-179ed88e4f9b>:3: DeprecationWarning: Converting `np.inexact` or `np.floating` to a dtype is deprecated. The current result is `float64` which is not strictly correct.\n",
            "  if cleaned_df[column].dtype == np.number:\n",
            "<ipython-input-57-179ed88e4f9b>:3: DeprecationWarning: Converting `np.inexact` or `np.floating` to a dtype is deprecated. The current result is `float64` which is not strictly correct.\n",
            "  if cleaned_df[column].dtype == np.number:\n"
          ]
        }
      ]
    },
    {
      "cell_type": "code",
      "source": [
        "# Models\n",
        "models = {\n",
        "    \"Logistic Regression\": LogisticRegression(),\n",
        "    \"Random Forest\": RandomForestClassifier(n_estimators=100, random_state=42),\n",
        "    \"Gradient Boosting\": GradientBoostingClassifier(n_estimators=100, random_state=42),\n",
        "    \"SVM\": SVC(kernel='linear', random_state=42)\n",
        "}"
      ],
      "metadata": {
        "id": "gHmoCovLs6oD"
      },
      "execution_count": 59,
      "outputs": []
    },
    {
      "cell_type": "code",
      "source": [
        "# Train and evaluate models\n",
        "for name, model in models.items():\n",
        "    model.fit(x_train, y_train)\n",
        "    predictions = model.predict(x_test)\n",
        "    print(f\"Model: {name}\")\n",
        "    print(classification_report(y_test, predictions))\n",
        "    print(\"=\"*50)"
      ],
      "metadata": {
        "colab": {
          "base_uri": "https://localhost:8080/"
        },
        "id": "pdFiGwcetUIg",
        "outputId": "1f947e43-64e7-45ab-f8ed-3444159b1118"
      },
      "execution_count": 60,
      "outputs": [
        {
          "output_type": "stream",
          "name": "stdout",
          "text": [
            "Model: Logistic Regression\n",
            "              precision    recall  f1-score   support\n",
            "\n",
            "           0       0.85      0.91      0.88      1036\n",
            "           1       0.69      0.56      0.62       373\n",
            "\n",
            "    accuracy                           0.82      1409\n",
            "   macro avg       0.77      0.74      0.75      1409\n",
            "weighted avg       0.81      0.82      0.81      1409\n",
            "\n",
            "==================================================\n",
            "Model: Random Forest\n",
            "              precision    recall  f1-score   support\n",
            "\n",
            "           0       0.83      0.91      0.87      1036\n",
            "           1       0.67      0.49      0.57       373\n",
            "\n",
            "    accuracy                           0.80      1409\n",
            "   macro avg       0.75      0.70      0.72      1409\n",
            "weighted avg       0.79      0.80      0.79      1409\n",
            "\n",
            "==================================================\n",
            "Model: Gradient Boosting\n",
            "              precision    recall  f1-score   support\n",
            "\n",
            "           0       0.84      0.91      0.88      1036\n",
            "           1       0.69      0.53      0.60       373\n",
            "\n",
            "    accuracy                           0.81      1409\n",
            "   macro avg       0.76      0.72      0.74      1409\n",
            "weighted avg       0.80      0.81      0.80      1409\n",
            "\n",
            "==================================================\n",
            "Model: SVM\n",
            "              precision    recall  f1-score   support\n",
            "\n",
            "           0       0.86      0.90      0.88      1036\n",
            "           1       0.69      0.59      0.64       373\n",
            "\n",
            "    accuracy                           0.82      1409\n",
            "   macro avg       0.77      0.75      0.76      1409\n",
            "weighted avg       0.81      0.82      0.82      1409\n",
            "\n",
            "==================================================\n"
          ]
        }
      ]
    },
    {
      "cell_type": "code",
      "source": [
        "# Precision: Precision is the ratio of correctly predicted positive observations to the total predicted positives. Higher precision indicates fewer false positives.\n",
        "# Recall: Recall (also known as sensitivity) is the ratio of correctly predicted positive observations to all actual positives. Higher recall indicates fewer false negatives.\n",
        "# F1-Score: F1-score is the weighted average of precision and recall. It considers both false positives and false negatives. Higher F1-score indicates better balance between precision and recall.\n",
        "# Accuracy: Accuracy is the ratio of correctly predicted observations to the total observations. It measures overall model performance.\n",
        "\n",
        "# Comparison:\n",
        "\n",
        "# In terms of accuracy, SVM and logistic regression perform the best, both achieving an accuracy of 0.82.\n",
        "# # Logistic regression and SVM have higher precision for class 0 (non-churned customers) compared to other models, indicating fewer false positive predictions.\n",
        "# Gradient boosting and logistic regression have the highest recall for class 1 (churned customers), indicating better detection of actual churn cases.\n",
        "# Random forest has lower precision and recall for class 1 compared to other models.\n",
        "# Overall, logistic regression, SVM, and gradient boosting perform similarly in terms of accuracy and F1-score, while random forest lags slightly behind."
      ],
      "metadata": {
        "id": "OMduKwoTuTzV"
      },
      "execution_count": 61,
      "outputs": []
    }
  ]
}